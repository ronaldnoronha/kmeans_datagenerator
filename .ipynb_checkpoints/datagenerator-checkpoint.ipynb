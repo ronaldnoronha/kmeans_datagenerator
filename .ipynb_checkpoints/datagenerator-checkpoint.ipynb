{
 "cells": [
  {
   "cell_type": "code",
   "execution_count": 1,
   "metadata": {},
   "outputs": [],
   "source": [
    "# source https://damianmingle.com/make-simulated-data-for-clustering/\n",
    "\n",
    "from sklearn.datasets import make_blobs\n",
    "import matplotlib.pyplot as plt"
   ]
  },
  {
   "cell_type": "code",
   "execution_count": 4,
   "metadata": {},
   "outputs": [],
   "source": [
    "# Make features and targets with 500 samples,\n",
    "features, target = make_blobs(n_samples = 500,\n",
    "                  # two feature variables,\n",
    "                  n_features = 3,\n",
    "                  # four clusters,\n",
    "                  centers = 8,\n",
    "                  # with .65 cluster standard deviation,\n",
    "                  cluster_std = 0.65,\n",
    "                  # shuffled,\n",
    "                  shuffle = True)"
   ]
  },
  {
   "cell_type": "code",
   "execution_count": 7,
   "metadata": {},
   "outputs": [
    {
     "data": {
      "image/png": "[encoded data removed]",
      "text/plain": [
       "<Figure size 432x288 with 1 Axes>"
      ]
     },
     "metadata": {
      "needs_background": "light"
     },
     "output_type": "display_data"
    }
   ],
   "source": [
    "\n",
    "# Create a scatterplot of first two features\n",
    "plt.scatter(features[:,0],\n",
    "            features[:,1])\n",
    "\n",
    "# View scatterplot\n",
    "plt.show()"
   ]
  },
  {
   "cell_type": "code",
   "execution_count": 6,
   "metadata": {},
   "outputs": [
    {
     "name": "stdout",
     "output_type": "stream",
     "text": [
      "[[ 6.02370611  0.64603425  8.35874034]\n",
      " [-4.9102637   1.74845716 -6.81201924]\n",
      " [ 6.3905977   1.31776794  9.51698927]\n",
      " ...\n",
      " [ 6.48543882  1.17004251  7.60138323]\n",
      " [-3.54962384  1.4724715  -7.29628486]\n",
      " [-5.35190798 -9.06143925 -9.82325374]]\n"
     ]
    }
   ],
   "source": [
    "print(features)\n"
   ]
  },
  {
   "cell_type": "code",
   "execution_count": 20,
   "metadata": {},
   "outputs": [],
   "source": [
    "import csv\n",
    "with open('KMeans.csv','w') as f:\n",
    "    fieldnames = ['x','y','z']\n",
    "    writer = csv.DictWriter(f,fieldnames)\n",
    "    writer.writeheader()\n",
    "    for i in features:\n",
    "        dct= {}\n",
    "        for j in range(len(i)):\n",
    "            dct[fieldnames[j]]=i[j]\n",
    "        writer.writerow(dct)"
   ]
  },
  {
   "cell_type": "code",
   "execution_count": null,
   "metadata": {},
   "outputs": [],
   "source": []
  }
 ],
 "metadata": {
  "kernelspec": {
   "display_name": "Python 3",
   "language": "python",
   "name": "python3"
  },
  "language_info": {
   "codemirror_mode": {
    "name": "ipython",
    "version": 3
   },
   "file_extension": ".py",
   "mimetype": "text/x-python",
   "name": "python",
   "nbconvert_exporter": "python",
   "pygments_lexer": "ipython3",
   "version": "3.7.3"
  }
 },
 "nbformat": 4,
 "nbformat_minor": 2
}
