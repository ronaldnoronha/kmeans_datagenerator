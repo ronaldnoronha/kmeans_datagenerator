{
 "cells": [
  {
   "cell_type": "code",
   "execution_count": 9,
   "metadata": {},
   "outputs": [],
   "source": [
    "# source https://damianmingle.com/make-simulated-data-for-clustering/\n",
    "\n",
    "from sklearn.datasets import make_blobs\n",
    "import matplotlib.pyplot as plt\n",
    "from datetime import datetime\n",
    "\n",
    "def create_data(n_samples, n_features, centers, std):\n",
    "    features, target = make_blobs(n_samples = n_samples,\n",
    "                  # two feature variables,\n",
    "                  n_features = n_features,\n",
    "                  # four clusters,\n",
    "                  centers = centers,\n",
    "                  # with .65 cluster standard deviation,\n",
    "                  cluster_std = std,\n",
    "                  # shuffled,\n",
    "                  shuffle = True)\n",
    "    return features, target"
   ]
  },
  {
   "cell_type": "code",
   "execution_count": 1,
   "metadata": {},
   "outputs": [
    {
     "ename": "NameError",
     "evalue": "name 'make_blobs' is not defined",
     "output_type": "error",
     "traceback": [
      "\u001b[0;31m---------------------------------------------------------------------------\u001b[0m",
      "\u001b[0;31mNameError\u001b[0m                                 Traceback (most recent call last)",
      "\u001b[0;32m<ipython-input-1-b1c8d059617d>\u001b[0m in \u001b[0;36m<module>\u001b[0;34m\u001b[0m\n\u001b[1;32m     15\u001b[0m     \u001b[0;32mreturn\u001b[0m \u001b[0mfeatures\u001b[0m\u001b[0;34m,\u001b[0m \u001b[0mtarget\u001b[0m\u001b[0;34m\u001b[0m\u001b[0;34m\u001b[0m\u001b[0m\n\u001b[1;32m     16\u001b[0m \u001b[0;34m\u001b[0m\u001b[0m\n\u001b[0;32m---> 17\u001b[0;31m \u001b[0mcenter_dim\u001b[0m\u001b[0;34m,\u001b[0m \u001b[0mcenter_no\u001b[0m \u001b[0;34m=\u001b[0m \u001b[0mcreate_data\u001b[0m\u001b[0;34m(\u001b[0m\u001b[0;36m8\u001b[0m\u001b[0;34m,\u001b[0m\u001b[0;36m3\u001b[0m\u001b[0;34m,\u001b[0m\u001b[0;36m8\u001b[0m\u001b[0;34m,\u001b[0m\u001b[0;36m3\u001b[0m\u001b[0;34m)\u001b[0m\u001b[0;34m\u001b[0m\u001b[0;34m\u001b[0m\u001b[0m\n\u001b[0m\u001b[1;32m     18\u001b[0m \u001b[0;34m\u001b[0m\u001b[0m\n\u001b[1;32m     19\u001b[0m \u001b[0mfeatures\u001b[0m\u001b[0;34m,\u001b[0m \u001b[0mtarget\u001b[0m \u001b[0;34m=\u001b[0m \u001b[0mcreate_data\u001b[0m\u001b[0;34m(\u001b[0m\u001b[0;36m10000\u001b[0m\u001b[0;34m,\u001b[0m\u001b[0;36m3\u001b[0m\u001b[0;34m,\u001b[0m\u001b[0mcenter_dim\u001b[0m\u001b[0;34m,\u001b[0m\u001b[0;36m0.65\u001b[0m\u001b[0;34m)\u001b[0m\u001b[0;34m\u001b[0m\u001b[0;34m\u001b[0m\u001b[0m\n",
      "\u001b[0;32m<ipython-input-1-b1c8d059617d>\u001b[0m in \u001b[0;36mcreate_data\u001b[0;34m(n_samples, n_features, centers, std)\u001b[0m\n\u001b[1;32m      4\u001b[0m \u001b[0mt1\u001b[0m \u001b[0;34m=\u001b[0m \u001b[0mtime\u001b[0m\u001b[0;34m.\u001b[0m\u001b[0mtime\u001b[0m\u001b[0;34m(\u001b[0m\u001b[0;34m)\u001b[0m\u001b[0;34m\u001b[0m\u001b[0;34m\u001b[0m\u001b[0m\n\u001b[1;32m      5\u001b[0m \u001b[0;32mdef\u001b[0m \u001b[0mcreate_data\u001b[0m\u001b[0;34m(\u001b[0m\u001b[0mn_samples\u001b[0m\u001b[0;34m,\u001b[0m \u001b[0mn_features\u001b[0m\u001b[0;34m,\u001b[0m \u001b[0mcenters\u001b[0m\u001b[0;34m,\u001b[0m \u001b[0mstd\u001b[0m\u001b[0;34m)\u001b[0m\u001b[0;34m:\u001b[0m\u001b[0;34m\u001b[0m\u001b[0;34m\u001b[0m\u001b[0m\n\u001b[0;32m----> 6\u001b[0;31m     features, target = make_blobs(n_samples = n_samples,\n\u001b[0m\u001b[1;32m      7\u001b[0m                   \u001b[0;31m# two feature variables,\u001b[0m\u001b[0;34m\u001b[0m\u001b[0;34m\u001b[0m\u001b[0;34m\u001b[0m\u001b[0m\n\u001b[1;32m      8\u001b[0m                   \u001b[0mn_features\u001b[0m \u001b[0;34m=\u001b[0m \u001b[0mn_features\u001b[0m\u001b[0;34m,\u001b[0m\u001b[0;34m\u001b[0m\u001b[0;34m\u001b[0m\u001b[0m\n",
      "\u001b[0;31mNameError\u001b[0m: name 'make_blobs' is not defined"
     ]
    }
   ],
   "source": [
    "# Make features and targets with 500 samples,\n",
    "import time\n",
    "\n",
    "t1 = time.time()\n",
    "\n",
    "\n",
    "center_dim, center_no = create_data(8,3,8,3)\n",
    "\n",
    "features, target = create_data(10000,3,center_dim,0.65)\n",
    "print(str(time.time()-t1)+ \" seconds\")\n",
    "\n",
    "random_centers,_ = create_data(8,3,8,10)\n",
    "\n",
    "import csv\n",
    "fieldnames = ['x','y','z']\n",
    "with open('random_centers.csv','w') as f:\n",
    "    writer = csv.DictWriter(f,fieldnames)\n",
    "    writer.writeheader()\n",
    "    for i in range(len(random_centers)):\n",
    "        dct= {}\n",
    "        for j in range(len(random_centers[i])):\n",
    "            dct[fieldnames[j]]=random_centers[i][j]\n",
    "#         dct[fieldnames[j+1]]=center_no[i]\n",
    "        writer.writerow(dct)\n",
    "\n"
   ]
  },
  {
   "cell_type": "code",
   "execution_count": 21,
   "metadata": {},
   "outputs": [
    {
     "name": "stdout",
     "output_type": "stream",
     "text": [
      "[[ -5.60847352   9.14843733  13.87092623]\n",
      " [  3.38465882   0.4944275    6.49684008]\n",
      " [  6.98062797 -12.18782071  -0.18237361]\n",
      " [  6.60068734   6.41699617  -0.76581467]\n",
      " [ -5.09573708   0.65356704   8.04415723]\n",
      " [ -6.1035913   -7.4498225   -0.53803148]\n",
      " [ -3.68530968  -4.95123077  -6.84215885]\n",
      " [  4.92421174  -6.1543861    1.82129579]] [3 2 1 7 6 4 5 0]\n"
     ]
    },
    {
     "data": {
      "image/png": "[encoded data removed]",
      "text/plain": [
       "<Figure size 432x288 with 1 Axes>"
      ]
     },
     "metadata": {
      "needs_background": "light"
     },
     "output_type": "display_data"
    }
   ],
   "source": [
    "print(center_dim, center_no)\n",
    "# Create a scatterplot of first two features\n",
    "plt.scatter(center_dim[:,0],\n",
    "            center_dim[:,1])\n",
    "\n",
    "# View scatterplot\n",
    "plt.show()"
   ]
  },
  {
   "cell_type": "code",
   "execution_count": 22,
   "metadata": {},
   "outputs": [
    {
     "data": {
      "image/png": "[encoded data removed]",
      "text/plain": [
       "<Figure size 432x288 with 1 Axes>"
      ]
     },
     "metadata": {
      "needs_background": "light"
     },
     "output_type": "display_data"
    }
   ],
   "source": [
    "\n",
    "# Create a scatterplot of first two features\n",
    "plt.scatter(features[:,0],\n",
    "            features[:,1])\n",
    "\n",
    "# View scatterplot\n",
    "plt.show()"
   ]
  },
  {
   "cell_type": "code",
   "execution_count": 21,
   "metadata": {},
   "outputs": [
    {
     "name": "stdout",
     "output_type": "stream",
     "text": [
      "[-3.95356937  7.46983836  3.67993488]\n",
      "1591863845.8126578,[-3.95356937  7.46983836  3.67993488]\n"
     ]
    }
   ],
   "source": [
    "# print(features)\n",
    "# print(target)\n",
    "print(features[1])\n",
    "print(str(time.time())+','+str(features[1]))"
   ]
  },
  {
   "cell_type": "code",
   "execution_count": 23,
   "metadata": {},
   "outputs": [],
   "source": [
    "import csv\n",
    "fieldnames = ['x','y','z','target']\n",
    "with open('centers.csv','w') as f:\n",
    "    writer = csv.DictWriter(f,fieldnames)\n",
    "    writer.writeheader()\n",
    "    for i in range(len(center_dim)):\n",
    "        dct= {}\n",
    "        for j in range(len(center_dim[i])):\n",
    "            dct[fieldnames[j]]=center_dim[i][j]\n",
    "        dct[fieldnames[j+1]]=center_no[i]\n",
    "        writer.writerow(dct)\n",
    "        \n",
    "with open('train.csv','w') as f:\n",
    "    features, target = create_data(100,3,center_dim,0.65)\n",
    "    writer = csv.DictWriter(f,fieldnames)\n",
    "    writer.writeheader()\n",
    "    for i in range(len(features)):\n",
    "        dct= {}\n",
    "        for j in range(len(features[i])):\n",
    "            dct[fieldnames[j]]=features[i][j]\n",
    "        dct[fieldnames[j+1]]=target[i]\n",
    "        writer.writerow(dct)\n",
    "\n",
    "with open('test1.csv','w') as f:\n",
    "    features, target = create_data(1000,3,center_dim,0.65)\n",
    "    writer = csv.DictWriter(f,fieldnames)\n",
    "    writer.writeheader()\n",
    "    for i in range(len(features)):\n",
    "        dct= {}\n",
    "        for j in range(len(features[i])):\n",
    "            dct[fieldnames[j]]=features[i][j]\n",
    "        dct[fieldnames[j+1]]=target[i]\n",
    "        writer.writerow(dct)\n",
    "        \n",
    "with open('test2.csv','w') as f:\n",
    "    features, target = create_data(1000,3,center_dim,0.65)\n",
    "    writer = csv.DictWriter(f,fieldnames)\n",
    "    writer.writeheader()\n",
    "    for i in range(len(features)):\n",
    "        dct= {}\n",
    "        for j in range(len(features[i])):\n",
    "            dct[fieldnames[j]]=features[i][j]\n",
    "        dct[fieldnames[j+1]]=target[i]\n",
    "        writer.writerow(dct)\n",
    "\n",
    "        \n",
    "        \n",
    "# with open('KMeans.csv','w') as f:\n",
    "#     fieldnames = ['x','y','z']\n",
    "#     writer = csv.DictWriter(f,fieldnames)\n",
    "#     writer.writeheader()\n",
    "#     for i in features:\n",
    "#         dct= {}\n",
    "#         for j in range(len(i)):\n",
    "#             dct[fieldnames[j]]=i[j]\n",
    "#         writer.writerow(dct)\n",
    "#     writer = csv.writer(f)\n",
    "#     for i in features:\n",
    "#         writer.writerow(i)"
   ]
  },
  {
   "cell_type": "code",
   "execution_count": 8,
   "metadata": {},
   "outputs": [
    {
     "name": "stdout",
     "output_type": "stream",
     "text": [
      "Starting Thread-1Starting Thread-2\n",
      "\n",
      "Exiting Main Thread\n",
      "Thread-1: Fri Jun  5 15:41:53 2020\n",
      "Thread-2: Fri Jun  5 15:41:54 2020Thread-1: Fri Jun  5 15:41:54 2020\n",
      "\n",
      "Thread-1: Fri Jun  5 15:41:55 2020\n",
      "Thread-2: Fri Jun  5 15:41:56 2020\n",
      "Thread-1: Fri Jun  5 15:41:56 2020\n",
      "Thread-1: Fri Jun  5 15:41:57 2020\n",
      "Exiting Thread-1\n",
      "Thread-2: Fri Jun  5 15:41:58 2020\n",
      "Thread-2: Fri Jun  5 15:42:00 2020\n",
      "Thread-2: Fri Jun  5 15:42:02 2020\n",
      "Exiting Thread-2\n"
     ]
    }
   ],
   "source": [
    "import threading\n",
    "import time\n",
    "\n",
    "exitFlag = 0\n",
    "\n",
    "class myThread (threading.Thread):\n",
    "    def __init__(self, threadID, name, counter):\n",
    "        threading.Thread.__init__(self)\n",
    "        self.threadID = threadID\n",
    "        self.name = name\n",
    "        self.counter = counter\n",
    "    def run(self):\n",
    "        print(\"Starting \" + self.name)\n",
    "        print_time(self.name, 5, self.counter)\n",
    "        print(\"Exiting \" + self.name)\n",
    "\n",
    "def print_time(threadName, counter, delay):\n",
    "    while counter:\n",
    "        if exitFlag:\n",
    "            threadName.exit()\n",
    "        time.sleep(delay)\n",
    "        print(\"%s: %s\" % (threadName, time.ctime(time.time())))\n",
    "        counter -= 1\n",
    "\n",
    "# Create new threads\n",
    "thread1 = myThread(1, \"Thread-1\", 1)\n",
    "thread2 = myThread(2, \"Thread-2\", 2)\n",
    "\n",
    "# Start new Threads\n",
    "thread1.start()\n",
    "thread2.start()\n",
    "\n",
    "print(\"Exiting Main Thread\")\n"
   ]
  },
  {
   "cell_type": "code",
   "execution_count": 22,
   "metadata": {},
   "outputs": [],
   "source": [
    "import socket #import the socket module\n",
    "\n",
    "s = socket.socket() #Create a socket object\n",
    "host = socket.gethostname() #Get the local machine name\n",
    "port = 12397 # Reserve a port for your service\n",
    "s.bind((host,port)) #Bind to the port\n",
    "\n",
    "s.listen(5) #Wait for the client connection\n",
    "while True:\n",
    "    c,addr = s.accept() #Establish a connection with the client\n",
    "    print \"Got connection from\", addr\n",
    "    c.send(\"Thank you for connecting!\")\n",
    "    c.close()"
   ]
  },
  {
   "cell_type": "code",
   "execution_count": 35,
   "metadata": {},
   "outputs": [
    {
     "ename": "OSError",
     "evalue": "[Errno 22] Invalid argument",
     "output_type": "error",
     "traceback": [
      "\u001b[0;31m---------------------------------------------------------------------------\u001b[0m",
      "\u001b[0;31mOSError\u001b[0m                                   Traceback (most recent call last)",
      "\u001b[0;32m<ipython-input-35-9094164a1681>\u001b[0m in \u001b[0;36m<module>\u001b[0;34m\u001b[0m\n\u001b[1;32m      5\u001b[0m \u001b[0mport\u001b[0m \u001b[0;34m=\u001b[0m \u001b[0;36m10000\u001b[0m\u001b[0;34m\u001b[0m\u001b[0;34m\u001b[0m\u001b[0m\n\u001b[1;32m      6\u001b[0m \u001b[0ms\u001b[0m\u001b[0;34m.\u001b[0m\u001b[0mbind\u001b[0m\u001b[0;34m(\u001b[0m\u001b[0;34m(\u001b[0m\u001b[0;34m''\u001b[0m\u001b[0;34m,\u001b[0m\u001b[0mport\u001b[0m\u001b[0;34m)\u001b[0m\u001b[0;34m)\u001b[0m \u001b[0;31m#Bind to the port\u001b[0m\u001b[0;34m\u001b[0m\u001b[0;34m\u001b[0m\u001b[0m\n\u001b[0;32m----> 7\u001b[0;31m \u001b[0ms\u001b[0m\u001b[0;34m.\u001b[0m\u001b[0mconnect\u001b[0m\u001b[0;34m(\u001b[0m\u001b[0;34m(\u001b[0m\u001b[0;34m'0.0.0.0'\u001b[0m\u001b[0;34m,\u001b[0m\u001b[0mport\u001b[0m\u001b[0;34m)\u001b[0m\u001b[0;34m)\u001b[0m\u001b[0;34m\u001b[0m\u001b[0;34m\u001b[0m\u001b[0m\n\u001b[0m\u001b[1;32m      8\u001b[0m \u001b[0mcontent\u001b[0m \u001b[0;34m=\u001b[0m \u001b[0;34m'hello world'\u001b[0m\u001b[0;34m\u001b[0m\u001b[0;34m\u001b[0m\u001b[0m\n\u001b[1;32m      9\u001b[0m \u001b[0mbytes\u001b[0m \u001b[0;34m=\u001b[0m \u001b[0mstr\u001b[0m\u001b[0;34m.\u001b[0m\u001b[0mencode\u001b[0m\u001b[0;34m(\u001b[0m\u001b[0mcontent\u001b[0m\u001b[0;34m)\u001b[0m\u001b[0;34m\u001b[0m\u001b[0;34m\u001b[0m\u001b[0m\n",
      "\u001b[0;31mOSError\u001b[0m: [Errno 22] Invalid argument"
     ]
    }
   ],
   "source": [
    "import socket #import socket module\n",
    "\n",
    "s = socket.socket() #create a socket object\n",
    "host = socket.gethostname() #Host i.p\n",
    "port = 12397 #Reserve a port for your service\n",
    "\n",
    "s.connect((host,port))\n",
    "while s.\n",
    "\n",
    "print s.recv(1024)\n"
   ]
  },
  {
   "cell_type": "code",
   "execution_count": null,
   "metadata": {},
   "outputs": [],
   "source": [
    "\n",
    "### Server to publish time\n",
    "\n",
    "import socket\n",
    "from datetime import datetime\n",
    "import time\n",
    "\n",
    "s = socket.socket() #Create a socket object\n",
    "host = socket.gethostname() #Get the local machine name\n",
    "port = 12397 # Reserve a port for your service\n",
    "s.bind((host,port)) #Bind to the port\n",
    "counter = 10**2\n",
    "\n",
    "s.listen(5) #Wait for the client connection\n",
    "while True:\n",
    "    c,addr = s.accept() #Establish a connection with the client\n",
    "    print \"Got connection from\", addr\n",
    "    for i in range(counter):\n",
    "        message = str(datetime.now())\n",
    "        print(f'Send: {message!r}')\n",
    "        c.send(message.encode())\n",
    "        time.sleep(1)\n",
    "    c.close()"
   ]
  },
  {
   "cell_type": "code",
   "execution_count": null,
   "metadata": {},
   "outputs": [],
   "source": []
  },
  {
   "cell_type": "code",
   "execution_count": 7,
   "metadata": {},
   "outputs": [
    {
     "name": "stdout",
     "output_type": "stream",
     "text": [
      "Send: '2020-06-07 01:08:46.668815'\n",
      "Send: '2020-06-07 01:08:47.671759'\n",
      "Send: '2020-06-07 01:08:48.673107'\n",
      "Send: '2020-06-07 01:08:49.676755'\n",
      "Send: '2020-06-07 01:08:50.682236'\n",
      "Send: '2020-06-07 01:08:51.684784'\n",
      "Send: '2020-06-07 01:08:52.686181'\n",
      "Send: '2020-06-07 01:08:53.692128'\n",
      "Send: '2020-06-07 01:08:54.694293'\n",
      "Send: '2020-06-07 01:08:55.697838'\n",
      "Send: '2020-06-07 01:08:56.703550'\n",
      "Send: '2020-06-07 01:08:57.705101'\n",
      "Send: '2020-06-07 01:08:58.710415'\n",
      "Send: '2020-06-07 01:08:59.714280'\n",
      "Send: '2020-06-07 01:09:00.715063'\n",
      "Send: '2020-06-07 01:09:01.716771'\n",
      "Send: '2020-06-07 01:09:02.721663'\n",
      "Send: '2020-06-07 01:09:03.726112'\n",
      "Send: '2020-06-07 01:09:04.727192'\n",
      "Send: '2020-06-07 01:09:05.732115'\n",
      "Send: '2020-06-07 01:09:06.737037'\n",
      "Send: '2020-06-07 01:09:07.742674'\n",
      "Send: '2020-06-07 01:09:08.744171'\n",
      "Send: '2020-06-07 01:09:09.746915'\n",
      "Send: '2020-06-07 01:09:10.749543'\n",
      "Send: '2020-06-07 01:09:11.751674'\n",
      "Send: '2020-06-07 01:09:12.756199'\n"
     ]
    },
    {
     "ename": "KeyboardInterrupt",
     "evalue": "",
     "output_type": "error",
     "traceback": [
      "\u001b[0;31m---------------------------------------------------------------------------\u001b[0m",
      "\u001b[0;31mKeyboardInterrupt\u001b[0m                         Traceback (most recent call last)",
      "\u001b[0;32m<ipython-input-7-1a75709f6bfc>\u001b[0m in \u001b[0;36m<module>\u001b[0;34m\u001b[0m\n\u001b[1;32m     18\u001b[0m     \u001b[0;32mawait\u001b[0m \u001b[0mwriter\u001b[0m\u001b[0;34m.\u001b[0m\u001b[0mwait_closed\u001b[0m\u001b[0;34m(\u001b[0m\u001b[0;34m)\u001b[0m\u001b[0;34m\u001b[0m\u001b[0;34m\u001b[0m\u001b[0m\n\u001b[1;32m     19\u001b[0m \u001b[0;34m\u001b[0m\u001b[0m\n\u001b[0;32m---> 20\u001b[0;31m \u001b[0masyncio\u001b[0m\u001b[0;34m.\u001b[0m\u001b[0mrun\u001b[0m\u001b[0;34m(\u001b[0m\u001b[0mtcp_echo_client\u001b[0m\u001b[0;34m(\u001b[0m\u001b[0;36m10\u001b[0m\u001b[0;34m**\u001b[0m\u001b[0;36m3\u001b[0m\u001b[0;34m)\u001b[0m\u001b[0;34m)\u001b[0m\u001b[0;34m\u001b[0m\u001b[0;34m\u001b[0m\u001b[0m\n\u001b[0m",
      "\u001b[0;32m~/anaconda3/lib/python3.7/asyncio/runners.py\u001b[0m in \u001b[0;36mrun\u001b[0;34m(main, debug)\u001b[0m\n\u001b[1;32m     41\u001b[0m         \u001b[0mevents\u001b[0m\u001b[0;34m.\u001b[0m\u001b[0mset_event_loop\u001b[0m\u001b[0;34m(\u001b[0m\u001b[0mloop\u001b[0m\u001b[0;34m)\u001b[0m\u001b[0;34m\u001b[0m\u001b[0;34m\u001b[0m\u001b[0m\n\u001b[1;32m     42\u001b[0m         \u001b[0mloop\u001b[0m\u001b[0;34m.\u001b[0m\u001b[0mset_debug\u001b[0m\u001b[0;34m(\u001b[0m\u001b[0mdebug\u001b[0m\u001b[0;34m)\u001b[0m\u001b[0;34m\u001b[0m\u001b[0;34m\u001b[0m\u001b[0m\n\u001b[0;32m---> 43\u001b[0;31m         \u001b[0;32mreturn\u001b[0m \u001b[0mloop\u001b[0m\u001b[0;34m.\u001b[0m\u001b[0mrun_until_complete\u001b[0m\u001b[0;34m(\u001b[0m\u001b[0mmain\u001b[0m\u001b[0;34m)\u001b[0m\u001b[0;34m\u001b[0m\u001b[0;34m\u001b[0m\u001b[0m\n\u001b[0m\u001b[1;32m     44\u001b[0m     \u001b[0;32mfinally\u001b[0m\u001b[0;34m:\u001b[0m\u001b[0;34m\u001b[0m\u001b[0;34m\u001b[0m\u001b[0m\n\u001b[1;32m     45\u001b[0m         \u001b[0;32mtry\u001b[0m\u001b[0;34m:\u001b[0m\u001b[0;34m\u001b[0m\u001b[0;34m\u001b[0m\u001b[0m\n",
      "\u001b[0;32m~/anaconda3/lib/python3.7/asyncio/base_events.py\u001b[0m in \u001b[0;36mrun_until_complete\u001b[0;34m(self, future)\u001b[0m\n\u001b[1;32m    569\u001b[0m         \u001b[0mfuture\u001b[0m\u001b[0;34m.\u001b[0m\u001b[0madd_done_callback\u001b[0m\u001b[0;34m(\u001b[0m\u001b[0m_run_until_complete_cb\u001b[0m\u001b[0;34m)\u001b[0m\u001b[0;34m\u001b[0m\u001b[0;34m\u001b[0m\u001b[0m\n\u001b[1;32m    570\u001b[0m         \u001b[0;32mtry\u001b[0m\u001b[0;34m:\u001b[0m\u001b[0;34m\u001b[0m\u001b[0;34m\u001b[0m\u001b[0m\n\u001b[0;32m--> 571\u001b[0;31m             \u001b[0mself\u001b[0m\u001b[0;34m.\u001b[0m\u001b[0mrun_forever\u001b[0m\u001b[0;34m(\u001b[0m\u001b[0;34m)\u001b[0m\u001b[0;34m\u001b[0m\u001b[0;34m\u001b[0m\u001b[0m\n\u001b[0m\u001b[1;32m    572\u001b[0m         \u001b[0;32mexcept\u001b[0m\u001b[0;34m:\u001b[0m\u001b[0;34m\u001b[0m\u001b[0;34m\u001b[0m\u001b[0m\n\u001b[1;32m    573\u001b[0m             \u001b[0;32mif\u001b[0m \u001b[0mnew_task\u001b[0m \u001b[0;32mand\u001b[0m \u001b[0mfuture\u001b[0m\u001b[0;34m.\u001b[0m\u001b[0mdone\u001b[0m\u001b[0;34m(\u001b[0m\u001b[0;34m)\u001b[0m \u001b[0;32mand\u001b[0m \u001b[0;32mnot\u001b[0m \u001b[0mfuture\u001b[0m\u001b[0;34m.\u001b[0m\u001b[0mcancelled\u001b[0m\u001b[0;34m(\u001b[0m\u001b[0;34m)\u001b[0m\u001b[0;34m:\u001b[0m\u001b[0;34m\u001b[0m\u001b[0;34m\u001b[0m\u001b[0m\n",
      "\u001b[0;32m~/anaconda3/lib/python3.7/asyncio/base_events.py\u001b[0m in \u001b[0;36mrun_forever\u001b[0;34m(self)\u001b[0m\n\u001b[1;32m    537\u001b[0m             \u001b[0mevents\u001b[0m\u001b[0;34m.\u001b[0m\u001b[0m_set_running_loop\u001b[0m\u001b[0;34m(\u001b[0m\u001b[0mself\u001b[0m\u001b[0;34m)\u001b[0m\u001b[0;34m\u001b[0m\u001b[0;34m\u001b[0m\u001b[0m\n\u001b[1;32m    538\u001b[0m             \u001b[0;32mwhile\u001b[0m \u001b[0;32mTrue\u001b[0m\u001b[0;34m:\u001b[0m\u001b[0;34m\u001b[0m\u001b[0;34m\u001b[0m\u001b[0m\n\u001b[0;32m--> 539\u001b[0;31m                 \u001b[0mself\u001b[0m\u001b[0;34m.\u001b[0m\u001b[0m_run_once\u001b[0m\u001b[0;34m(\u001b[0m\u001b[0;34m)\u001b[0m\u001b[0;34m\u001b[0m\u001b[0;34m\u001b[0m\u001b[0m\n\u001b[0m\u001b[1;32m    540\u001b[0m                 \u001b[0;32mif\u001b[0m \u001b[0mself\u001b[0m\u001b[0;34m.\u001b[0m\u001b[0m_stopping\u001b[0m\u001b[0;34m:\u001b[0m\u001b[0;34m\u001b[0m\u001b[0;34m\u001b[0m\u001b[0m\n\u001b[1;32m    541\u001b[0m                     \u001b[0;32mbreak\u001b[0m\u001b[0;34m\u001b[0m\u001b[0;34m\u001b[0m\u001b[0m\n",
      "\u001b[0;32m~/anaconda3/lib/python3.7/asyncio/base_events.py\u001b[0m in \u001b[0;36m_run_once\u001b[0;34m(self)\u001b[0m\n\u001b[1;32m   1773\u001b[0m                     \u001b[0mself\u001b[0m\u001b[0;34m.\u001b[0m\u001b[0m_current_handle\u001b[0m \u001b[0;34m=\u001b[0m \u001b[0;32mNone\u001b[0m\u001b[0;34m\u001b[0m\u001b[0;34m\u001b[0m\u001b[0m\n\u001b[1;32m   1774\u001b[0m             \u001b[0;32melse\u001b[0m\u001b[0;34m:\u001b[0m\u001b[0;34m\u001b[0m\u001b[0;34m\u001b[0m\u001b[0m\n\u001b[0;32m-> 1775\u001b[0;31m                 \u001b[0mhandle\u001b[0m\u001b[0;34m.\u001b[0m\u001b[0m_run\u001b[0m\u001b[0;34m(\u001b[0m\u001b[0;34m)\u001b[0m\u001b[0;34m\u001b[0m\u001b[0;34m\u001b[0m\u001b[0m\n\u001b[0m\u001b[1;32m   1776\u001b[0m         \u001b[0mhandle\u001b[0m \u001b[0;34m=\u001b[0m \u001b[0;32mNone\u001b[0m  \u001b[0;31m# Needed to break cycles when an exception occurs.\u001b[0m\u001b[0;34m\u001b[0m\u001b[0;34m\u001b[0m\u001b[0m\n\u001b[1;32m   1777\u001b[0m \u001b[0;34m\u001b[0m\u001b[0m\n",
      "\u001b[0;32m~/anaconda3/lib/python3.7/asyncio/events.py\u001b[0m in \u001b[0;36m_run\u001b[0;34m(self)\u001b[0m\n\u001b[1;32m     86\u001b[0m     \u001b[0;32mdef\u001b[0m \u001b[0m_run\u001b[0m\u001b[0;34m(\u001b[0m\u001b[0mself\u001b[0m\u001b[0;34m)\u001b[0m\u001b[0;34m:\u001b[0m\u001b[0;34m\u001b[0m\u001b[0;34m\u001b[0m\u001b[0m\n\u001b[1;32m     87\u001b[0m         \u001b[0;32mtry\u001b[0m\u001b[0;34m:\u001b[0m\u001b[0;34m\u001b[0m\u001b[0;34m\u001b[0m\u001b[0m\n\u001b[0;32m---> 88\u001b[0;31m             \u001b[0mself\u001b[0m\u001b[0;34m.\u001b[0m\u001b[0m_context\u001b[0m\u001b[0;34m.\u001b[0m\u001b[0mrun\u001b[0m\u001b[0;34m(\u001b[0m\u001b[0mself\u001b[0m\u001b[0;34m.\u001b[0m\u001b[0m_callback\u001b[0m\u001b[0;34m,\u001b[0m \u001b[0;34m*\u001b[0m\u001b[0mself\u001b[0m\u001b[0;34m.\u001b[0m\u001b[0m_args\u001b[0m\u001b[0;34m)\u001b[0m\u001b[0;34m\u001b[0m\u001b[0;34m\u001b[0m\u001b[0m\n\u001b[0m\u001b[1;32m     89\u001b[0m         \u001b[0;32mexcept\u001b[0m \u001b[0mException\u001b[0m \u001b[0;32mas\u001b[0m \u001b[0mexc\u001b[0m\u001b[0;34m:\u001b[0m\u001b[0;34m\u001b[0m\u001b[0;34m\u001b[0m\u001b[0m\n\u001b[1;32m     90\u001b[0m             cb = format_helpers._format_callback_source(\n",
      "\u001b[0;32m<ipython-input-7-1a75709f6bfc>\u001b[0m in \u001b[0;36mtcp_echo_client\u001b[0;34m(counter)\u001b[0m\n\u001b[1;32m     12\u001b[0m         \u001b[0mwriter\u001b[0m\u001b[0;34m.\u001b[0m\u001b[0mwrite\u001b[0m\u001b[0;34m(\u001b[0m\u001b[0mmessage\u001b[0m\u001b[0;34m.\u001b[0m\u001b[0mencode\u001b[0m\u001b[0;34m(\u001b[0m\u001b[0;34m)\u001b[0m\u001b[0;34m)\u001b[0m\u001b[0;34m\u001b[0m\u001b[0;34m\u001b[0m\u001b[0m\n\u001b[1;32m     13\u001b[0m         \u001b[0;32mawait\u001b[0m \u001b[0mwriter\u001b[0m\u001b[0;34m.\u001b[0m\u001b[0mdrain\u001b[0m\u001b[0;34m(\u001b[0m\u001b[0;34m)\u001b[0m\u001b[0;34m\u001b[0m\u001b[0;34m\u001b[0m\u001b[0m\n\u001b[0;32m---> 14\u001b[0;31m         \u001b[0mtime\u001b[0m\u001b[0;34m.\u001b[0m\u001b[0msleep\u001b[0m\u001b[0;34m(\u001b[0m\u001b[0;36m1\u001b[0m\u001b[0;34m)\u001b[0m\u001b[0;34m\u001b[0m\u001b[0;34m\u001b[0m\u001b[0m\n\u001b[0m\u001b[1;32m     15\u001b[0m \u001b[0;34m\u001b[0m\u001b[0m\n\u001b[1;32m     16\u001b[0m     \u001b[0mprint\u001b[0m\u001b[0;34m(\u001b[0m\u001b[0;34m'Close the connection'\u001b[0m\u001b[0;34m)\u001b[0m\u001b[0;34m\u001b[0m\u001b[0;34m\u001b[0m\u001b[0m\n",
      "\u001b[0;31mKeyboardInterrupt\u001b[0m: "
     ]
    }
   ],
   "source": [
    "import asyncio\n",
    "from datetime import datetime\n",
    "import time\n",
    "\n",
    "async def tcp_echo_client(counter):\n",
    "    reader, writer = await asyncio.open_connection(\n",
    "        '127.0.0.1', 8888)\n",
    "\n",
    "    for i in range(counter):\n",
    "        message = str(datetime.now())\n",
    "        print(f'Send: {message!r}')\n",
    "        writer.write(message.encode())\n",
    "        await writer.drain()\n",
    "        time.sleep(1)\n",
    "\n",
    "    print('Close the connection')\n",
    "    writer.close()\n",
    "    await writer.wait_closed()\n",
    "\n",
    "asyncio.run(tcp_echo_client(10**3))"
   ]
  },
  {
   "cell_type": "code",
   "execution_count": 13,
   "metadata": {},
   "outputs": [
    {
     "ename": "SyntaxError",
     "evalue": "'await' outside async function (<ipython-input-13-df1ff810729f>, line 9)",
     "output_type": "error",
     "traceback": [
      "\u001b[0;36m  File \u001b[0;32m\"<ipython-input-13-df1ff810729f>\"\u001b[0;36m, line \u001b[0;32m9\u001b[0m\n\u001b[0;31m    for i in range(10**5):\u001b[0m\n\u001b[0m                          \n^\u001b[0m\n\u001b[0;31mSyntaxError\u001b[0m\u001b[0;31m:\u001b[0m 'await' outside async function\n"
     ]
    }
   ],
   "source": [
    "from datetime import datetime\n",
    "import time\n",
    "import asyncio\n",
    "\n",
    "def run():\n",
    "    reader, writer = await asyncio.open_connection(\n",
    "        '127.0.0.1', 8888)\n",
    "    \n",
    "    for i in range(10**5):\n",
    "        message = str(datetime.now())\n",
    "        print(f'Send: {message!r}')\n",
    "        writer.write(message.encode())\n",
    "        time.sleep(1)\n",
    "        \n",
    "\n",
    "run()"
   ]
  },
  {
   "cell_type": "code",
   "execution_count": 4,
   "metadata": {},
   "outputs": [],
   "source": [
    "import socket\n",
    "\n",
    "def netcat(hostname, port, content):\n",
    "    s = socket.socket(socket.AF_INET, socket.SOCK_STREAM)\n",
    "    s.connect((hostname, port))\n",
    "    s.sendall(content)\n",
    "    s.shutdown(socket.SHUT_WR)\n",
    "    while 1:\n",
    "        data = s.recv(1024)\n",
    "        if data == \"\":\n",
    "            break\n",
    "        print(\"Received:\", repr(data))\n",
    "    print(\"Connection closed.\")\n",
    "    s.close()"
   ]
  },
  {
   "cell_type": "code",
   "execution_count": 13,
   "metadata": {
    "pycharm": {
     "name": "#%%\n"
    }
   },
   "outputs": [
    {
     "name": "stdout",
     "output_type": "stream",
     "text": [
      "Send: '2020-08-12 00:22:18.540027,6.721921422137994 -2.7008694339103867 -4.757789422068056'\n",
      "Send: '2020-08-12 00:22:18.540377,1.0041387993381714 8.904877671322835 6.542442439780014'\n",
      "Send: '2020-08-12 00:22:18.540450,-7.636173025749568 5.325589833073317 1.5627628418397013'\n",
      "Send: '2020-08-12 00:22:18.540490,-8.048813197830933 10.202619013723584 6.743367024637375'\n",
      "Send: '2020-08-12 00:22:18.540525,-7.2181313407036605 9.826162626445852 4.225372574556929'\n",
      "Send: '2020-08-12 00:22:18.540557,6.708093695628284 -12.910967911170662 0.4687336730024514'\n",
      "Send: '2020-08-12 00:22:18.540613,10.387974928007267 9.460492727872559 -13.758742215096753'\n",
      "Send: '2020-08-12 00:22:18.540643,-5.44277657842117 6.46922514463039 14.053699473042677'\n",
      "Send: '2020-08-12 00:22:18.540668,7.150008101923982 -3.779469823802377 -6.624698060916878'\n",
      "Send: '2020-08-12 00:22:18.540693,10.484641408571434 9.29710286433156 -12.650212797578506'\n",
      "Send: '2020-08-12 00:22:18.540718,-6.693910126734898 7.045488763412663 15.097113674397612'\n",
      "Send: '2020-08-12 00:22:18.540743,7.983886951502392 -13.292387451125043 0.5741717913736781'\n",
      "Send: '2020-08-12 00:22:18.540768,11.481965421387622 9.970351963533435 -13.804147331992793'\n",
      "Send: '2020-08-12 00:22:18.540792,6.497881075101473 -2.5751926353441603 -5.996670448237426'\n",
      "Send: '2020-08-12 00:22:18.540826,10.898729041972578 9.32095742293433 -12.971894082597009'\n",
      "Send: '2020-08-12 00:22:18.540851,1.2262553804571399 9.799212865777893 7.939818231343479'\n",
      "Send: '2020-08-12 00:22:18.540875,10.959778905757684 9.955268445654736 -12.393214489460515'\n",
      "Send: '2020-08-12 00:22:18.540900,1.1730080179264755 8.584329085891174 7.252004929825365'\n",
      "Send: '2020-08-12 00:22:18.540925,7.34492977591231 -3.4240630984672062 -6.213375028295134'\n",
      "Send: '2020-08-12 00:22:18.541483,-7.4432024899130536 4.546136068236355 0.9723908277194391'\n",
      "Send: '2020-08-12 00:22:18.541516,-4.563969068932328 5.687688242860121 -0.13947672748647919'\n",
      "Send: '2020-08-12 00:22:18.541536,-6.385419968282965 3.956828505155045 1.4330087924617598'\n",
      "Send: '2020-08-12 00:22:18.541554,7.484856076237981 -2.564068269253666 -5.829474330364105'\n",
      "Send: '2020-08-12 00:22:18.541571,-7.296938378725647 5.255870476736079 1.1801274392435304'\n",
      "Send: '2020-08-12 00:22:18.541586,7.171556102487999 -14.005410427298877 1.5892634327762951'\n",
      "Send: '2020-08-12 00:22:18.541601,10.468556875617514 9.221057828358314 -12.200468483828473'\n",
      "Send: '2020-08-12 00:22:18.541627,1.434387969434276 8.315132389194384 6.261214302690283'\n",
      "Send: '2020-08-12 00:22:18.541647,-3.423137082070558 6.942183049058262 -0.9184117604220029'\n",
      "Send: '2020-08-12 00:22:18.541662,-4.189300663858941 7.446978128089993 -0.8211652957921044'\n",
      "Send: '2020-08-12 00:22:18.541676,-7.608235169742819 11.64471560014652 5.383731183159676'\n",
      "Send: '2020-08-12 00:22:18.541693,-8.50329274799243 10.144016727175888 6.065353749461022'\n",
      "Send: '2020-08-12 00:22:18.541709,-7.379156223408965 6.775335085612163 14.38466015429406'\n",
      "Send: '2020-08-12 00:22:18.541724,7.500412469570138 -12.041427371260513 2.13608685366674'\n",
      "Send: '2020-08-12 00:22:18.541738,7.599208032676079 -12.295233396005832 2.517249293083297'\n",
      "Send: '2020-08-12 00:22:18.541775,-7.519232655367408 9.944403249149424 5.2933972750266935'\n",
      "Send: '2020-08-12 00:22:18.541795,-4.07862510302052 6.790748584531552 0.22726893962303818'\n",
      "Send: '2020-08-12 00:22:18.541810,-6.577551106578599 5.268779258099762 1.487740268255624'\n",
      "Send: '2020-08-12 00:22:18.541825,-5.162041454682158 6.786430517792714 -1.3500837814501212'\n",
      "Send: '2020-08-12 00:22:18.541841,7.020649383206084 -12.473512368346837 1.435621584919271'\n",
      "Send: '2020-08-12 00:22:18.541856,-4.899297541181008 7.723393643921778 0.223434792937605'\n",
      "Send: '2020-08-12 00:22:18.541870,10.242252622780072 8.441272745581342 -14.844392180244936'\n",
      "Send: '2020-08-12 00:22:18.541885,-6.7725380410497 5.3223263052458964 1.0635997941336812'\n",
      "Send: '2020-08-12 00:22:18.541901,-7.6807088793777405 7.065276714378887 13.712658397806907'\n",
      "Send: '2020-08-12 00:22:18.541915,-6.695691471398256 5.360495015411531 0.9034669887192291'\n",
      "Send: '2020-08-12 00:22:18.541931,7.264191451218161 -4.0608124581908385 -6.623689104263107'\n",
      "Send: '2020-08-12 00:22:18.541949,6.401654378856108 -11.89726920614218 1.846486470333969'\n",
      "Send: '2020-08-12 00:22:18.541968,7.023342009277171 -2.3392148503395305 -5.844712543633592'\n",
      "Send: '2020-08-12 00:22:18.541986,-6.6389506780842735 6.69491920372459 14.181897183162944'\n",
      "Send: '2020-08-12 00:22:18.542005,-7.0724246052110775 4.516139781731773 0.9048104004739537'\n",
      "Send: '2020-08-12 00:22:18.542023,7.924466246917766 -13.78142577941619 1.0570327515171676'\n",
      "Send: '2020-08-12 00:22:18.542042,-6.216597279603318 4.650881803781073 0.544874265782591'\n",
      "Send: '2020-08-12 00:22:18.542229,1.9665469921916752 8.511352796381752 5.763996172978721'\n",
      "Send: '2020-08-12 00:22:18.542260,6.795913130029008 -12.604332607741847 1.6351850026276413'\n",
      "Send: '2020-08-12 00:22:18.542277,7.773353506706708 -3.175637730024509 -6.126319347512789'\n",
      "Send: '2020-08-12 00:22:18.542292,6.2583735150995885 -13.272433749392414 1.8294992465300832'\n",
      "Send: '2020-08-12 00:22:18.542311,9.949619365729951 10.1472070441774 -13.386252990212272'\n",
      "Send: '2020-08-12 00:22:18.542329,7.19751589506284 -13.136011908846815 1.3822579073236068'\n",
      "Send: '2020-08-12 00:22:18.542344,-5.907032649669879 6.48056600716854 14.180502775363578'\n",
      "Send: '2020-08-12 00:22:18.542358,1.8760247977223652 7.519153669966988 6.746758025919277'\n",
      "Send: '2020-08-12 00:22:18.542378,-7.529379534367158 4.268890429346336 1.89675623248313'\n",
      "Send: '2020-08-12 00:22:18.542395,-7.451858828404571 11.630976114541069 5.7814260091618115'\n",
      "Send: '2020-08-12 00:22:18.542410,-5.273659461708134 7.047536136262104 0.2578158091498541'\n",
      "Send: '2020-08-12 00:22:18.542425,-7.683641341864381 4.881488765760153 1.3946036914228672'\n",
      "Send: '2020-08-12 00:22:18.542441,-4.269094431786179 6.153433268483267 0.017691891012909022'\n",
      "Send: '2020-08-12 00:22:18.542559,-3.481943812357498 7.161492137429678 -0.04027318317789681'\n",
      "Send: '2020-08-12 00:22:18.542579,10.01908574419401 9.778511070241533 -13.407924173257255'\n",
      "Send: '2020-08-12 00:22:18.542596,-4.987432439954818 6.81657597358971 -1.1966859907906267'\n",
      "Send: '2020-08-12 00:22:18.542611,1.4333320456025052 8.230717202098765 6.59253419763169'\n",
      "Send: '2020-08-12 00:22:18.542625,7.053202374864375 -2.8613292848367284 -6.044924003960945'\n",
      "Send: '2020-08-12 00:22:18.542642,10.520567665064481 8.413309152445336 -13.12789077683253'\n",
      "Send: '2020-08-12 00:22:18.542659,6.768299045885864 -13.465150783897718 1.6270194273639154'\n",
      "Send: '2020-08-12 00:22:18.542674,-7.989535378358599 5.836896550611793 2.4862068528321606'\n",
      "Send: '2020-08-12 00:22:18.542688,7.166596160052357 -3.4229320327377843 -6.1966601171228906'\n",
      "Send: '2020-08-12 00:22:18.542705,-9.065254211159678 12.51907544548285 4.740968171902308'\n",
      "Send: '2020-08-12 00:22:18.542721,7.351695204250763 -4.076516847044012 -5.718497757533559'\n",
      "Send: '2020-08-12 00:22:18.542736,-7.027513511121889 7.55266099063738 15.064259646266132'\n",
      "Send: '2020-08-12 00:22:18.542750,-8.617637306400342 10.393663327598357 4.432761572232204'\n",
      "Send: '2020-08-12 00:22:18.542775,-5.73000488360454 5.945135274317004 13.470353330540302'\n",
      "Send: '2020-08-12 00:22:18.542796,-8.085340634874328 9.764634040830257 5.6481902319582105'\n",
      "Send: '2020-08-12 00:22:18.542929,2.39808529475536 8.50046280055002 6.895635679230893'\n",
      "Send: '2020-08-12 00:22:18.542949,-6.710354316639091 6.131291209866764 15.051817558579845'\n",
      "Send: '2020-08-12 00:22:18.542968,-8.40079259886196 11.238496318662154 4.771196232301963'\n",
      "Send: '2020-08-12 00:22:18.542986,-5.812453551515306 5.405409317503768 14.269928944019108'\n",
      "Send: '2020-08-12 00:22:18.543005,10.981112908560595 9.882762388139167 -13.595018081684605'\n",
      "Send: '2020-08-12 00:22:18.543024,7.804356857655975 -2.705622410933852 -5.960793642301809'\n",
      "Send: '2020-08-12 00:22:18.543042,-6.259929339816093 6.490236360332587 15.59365155206059'\n",
      "Send: '2020-08-12 00:22:18.543060,-4.564716217398171 6.494837077226951 0.24094727654225806'\n",
      "Send: '2020-08-12 00:22:18.543079,1.567602209682967 9.384476457351674 6.4356000958060475'\n",
      "Send: '2020-08-12 00:22:18.543097,-8.069993983122451 10.545740755980825 5.982768181506112'\n",
      "Send: '2020-08-12 00:22:18.543116,-7.141716992330799 5.572188976504933 0.5964620403296031'\n",
      "Send: '2020-08-12 00:22:18.543134,0.6521582683464622 8.157478309554136 7.248086589926574'\n",
      "Send: '2020-08-12 00:22:18.543158,7.28358899596506 -3.710469673779799 -6.354911169933015'\n",
      "Send: '2020-08-12 00:22:18.543180,-9.281178818433148 10.251847251106229 5.576986948829675'\n",
      "Send: '2020-08-12 00:22:18.543202,5.788658600311553 -11.665661263141669 1.6456481912951837'\n",
      "Send: '2020-08-12 00:22:18.543221,-7.90435631138051 10.646302429540068 4.387518471423677'\n",
      "Send: '2020-08-12 00:22:18.543239,10.384596413062694 9.067824960195713 -13.141754604777741'\n",
      "Send: '2020-08-12 00:22:18.543258,-4.17392359690549 6.6292346188452225 -0.6642714178133021'\n",
      "Send: '2020-08-12 00:22:18.543282,2.5574895855482462 8.051305219135571 6.275082599756229'\n",
      "Send: '2020-08-12 00:22:18.543302,-7.404410628437297 5.79845130634657 14.240908525359599'\n",
      "Send: '2020-08-12 00:22:18.543321,1.170418676563668 9.877090561513928 7.026867068661063'\n"
     ]
    }
   ],
   "source": [
    "centers, _ = create_data(8,3,8,3)\n",
    "\n",
    "features, target = create_data(100, 3, centers, 0.65)\n",
    "\n",
    "for i in features:\n",
    "    message = str(datetime.now())+','+' '.join([str(j) for j in i])\n",
    "    print(f'Send: {message!r}')\n",
    "    \n",
    "\n",
    "# for i in range(len(features)):\n",
    "#     message = str(datetime.now())+','\n",
    "#     # message+= ' '.join(features[i])\n",
    "#     for j in features[i]:\n",
    "#         message += str(j)+' '\n",
    "#     message.strip()\n",
    "#     print(f'Send: {message!r}')\n",
    "\n"
   ]
  },
  {
   "cell_type": "code",
   "execution_count": null,
   "metadata": {},
   "outputs": [],
   "source": []
  }
 ],
 "metadata": {
  "kernelspec": {
   "display_name": "Python 3",
   "language": "python",
   "name": "python3"
  },
  "language_info": {
   "codemirror_mode": {
    "name": "ipython",
    "version": 3
   },
   "file_extension": ".py",
   "mimetype": "text/x-python",
   "name": "python",
   "nbconvert_exporter": "python",
   "pygments_lexer": "ipython3",
   "version": "3.7.3"
  },
  "pycharm": {
   "stem_cell": {
    "cell_type": "raw",
    "metadata": {
     "collapsed": false
    },
    "source": []
   }
  }
 },
 "nbformat": 4,
 "nbformat_minor": 2
}
